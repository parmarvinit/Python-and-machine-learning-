{
  "nbformat": 4,
  "nbformat_minor": 0,
  "metadata": {
    "colab": {
      "private_outputs": true,
      "provenance": [],
      "authorship_tag": "ABX9TyMbV/GYC+QqgiFR8GsGwPoN",
      "include_colab_link": true
    },
    "kernelspec": {
      "name": "python3",
      "display_name": "Python 3"
    },
    "language_info": {
      "name": "python"
    },
    "gpuClass": "standard"
  },
  "cells": [
    {
      "cell_type": "markdown",
      "metadata": {
        "id": "view-in-github",
        "colab_type": "text"
      },
      "source": [
        "<a href=\"https://colab.research.google.com/github/vinitparmar16/Python-and-machine-learning-/blob/main/Loan_Prediction_In_ML.ipynb\" target=\"_parent\"><img src=\"https://colab.research.google.com/assets/colab-badge.svg\" alt=\"Open In Colab\"/></a>"
      ]
    },
    {
      "cell_type": "markdown",
      "source": [
        "#**Loan prediction**"
      ],
      "metadata": {
        "id": "A_aQzcFYiE8I"
      }
    },
    {
      "cell_type": "markdown",
      "source": [
        "#**Training data set**"
      ],
      "metadata": {
        "id": "y-vFSrEW6mHD"
      }
    },
    {
      "cell_type": "code",
      "source": [
        "import pandas as pd\n",
        "import numpy as np      # For mathematical calculations \n",
        "import seaborn as sns   # For data visualization\n",
        "import matplotlib.pyplot as plt  # For plotting graphs \n",
        "%matplotlib inline\n",
        "import warnings                        # To ignore any warnings\n",
        "warnings.filterwarnings(\"ignore\")"
      ],
      "metadata": {
        "id": "Y86qcpNZ0b4N"
      },
      "execution_count": null,
      "outputs": []
    },
    {
      "cell_type": "markdown",
      "source": [
        "**Importing and Loading Dataset**"
      ],
      "metadata": {
        "id": "jGQDXH9n15La"
      }
    },
    {
      "cell_type": "code",
      "source": [
        "train=pd.read_csv(\"/content/train.xls\")"
      ],
      "metadata": {
        "id": "YC0VkB5z19yT"
      },
      "execution_count": null,
      "outputs": []
    },
    {
      "cell_type": "code",
      "source": [
        "train.head()"
      ],
      "metadata": {
        "id": "XVIpEf8V2qlt"
      },
      "execution_count": null,
      "outputs": []
    },
    {
      "cell_type": "markdown",
      "source": [
        "**Dataset Info**"
      ],
      "metadata": {
        "id": "G4WAlX9h2y4P"
      }
    },
    {
      "cell_type": "code",
      "source": [
        "train.info()"
      ],
      "metadata": {
        "id": "FgAjncFi21nn"
      },
      "execution_count": null,
      "outputs": []
    },
    {
      "cell_type": "code",
      "source": [
        "train.describe()"
      ],
      "metadata": {
        "id": "wXjMJJr-iU2e"
      },
      "execution_count": null,
      "outputs": []
    },
    {
      "cell_type": "markdown",
      "source": [
        "**Dataset shape**"
      ],
      "metadata": {
        "id": "3MEKyoHS28yT"
      }
    },
    {
      "cell_type": "code",
      "source": [
        "train.shape"
      ],
      "metadata": {
        "id": "JLuC2OZO3AVW"
      },
      "execution_count": null,
      "outputs": []
    },
    {
      "cell_type": "markdown",
      "source": [
        "**Checking the Missing values**"
      ],
      "metadata": {
        "id": "IxjjeQks3Lj7"
      }
    },
    {
      "cell_type": "code",
      "source": [
        "train.isnull().sum()"
      ],
      "metadata": {
        "id": "xyCMii8J3Y4W"
      },
      "execution_count": null,
      "outputs": []
    },
    {
      "cell_type": "markdown",
      "source": [
        "**First we will fill the missing values in \"LoanAmount\" and \"Credit_History\" by the \"Mean\" and \"Median\" of the respective variables**"
      ],
      "metadata": {
        "id": "Mn40R3Cm3uv1"
      }
    },
    {
      "cell_type": "code",
      "source": [
        "train[\"LoanAmount\"]=train[\"LoanAmount\"].fillna(train[\"LoanAmount\"].mean())"
      ],
      "metadata": {
        "id": "i6iZxqNb4UE0"
      },
      "execution_count": null,
      "outputs": []
    },
    {
      "cell_type": "code",
      "source": [
        "train[\"Credit_History\"]=train[\"Credit_History\"].fillna(train[\"Credit_History\"].median())"
      ],
      "metadata": {
        "id": "Ug5nxT_35V4f"
      },
      "execution_count": null,
      "outputs": []
    },
    {
      "cell_type": "markdown",
      "source": [
        "**Let's confirm if there are any missing values in \"LoanAmount\" and \"Credit_History\""
      ],
      "metadata": {
        "id": "hvWZvLoR5tkF"
      }
    },
    {
      "cell_type": "code",
      "source": [
        "train.isnull().sum()"
      ],
      "metadata": {
        "id": "lBPNPtUe5-Lc"
      },
      "execution_count": null,
      "outputs": []
    },
    {
      "cell_type": "markdown",
      "source": [
        "**Now, let's drope all the missing values remaining**"
      ],
      "metadata": {
        "id": "hZNYGa_K6KJ8"
      }
    },
    {
      "cell_type": "code",
      "source": [
        "train.dropna(inplace=True)"
      ],
      "metadata": {
        "id": "loCEOwVG6VRA"
      },
      "execution_count": null,
      "outputs": []
    },
    {
      "cell_type": "markdown",
      "source": [
        "**Now let's check the missing values for final  time!**"
      ],
      "metadata": {
        "id": "xS7oP8dL6rtH"
      }
    },
    {
      "cell_type": "code",
      "source": [
        "train.isnull().sum()"
      ],
      "metadata": {
        "id": "Z0Slt0Uo6r5k"
      },
      "execution_count": null,
      "outputs": []
    },
    {
      "cell_type": "markdown",
      "source": [
        "**Now let's check the final dataset shape**"
      ],
      "metadata": {
        "id": "rWD96cwT7PI0"
      }
    },
    {
      "cell_type": "code",
      "source": [
        "train.shape"
      ],
      "metadata": {
        "id": "R3O6W7Mn7bWR"
      },
      "execution_count": null,
      "outputs": []
    },
    {
      "cell_type": "markdown",
      "source": [
        "**Exploratory Data Analysis**"
      ],
      "metadata": {
        "id": "kczw8vhh74j2"
      }
    },
    {
      "cell_type": "markdown",
      "source": [
        "**Comparison between parameters in getting the loan**"
      ],
      "metadata": {
        "id": "EokfQ69p8Hja"
      }
    },
    {
      "cell_type": "code",
      "source": [
        "plt.figure(figsize = (150,150))\n",
        "sns.set(font_scale = 5)\n",
        "plt.subplot(331)\n",
        "sns.countplot(train[\"Gender\"],hue=train[\"Loan_Status\"])\n",
        "\n",
        "plt.subplot(332)\n",
        "sns.countplot(train[\"Married\"],hue=train[\"Loan_Status\"])\n",
        "\n",
        "plt.subplot(333)\n",
        "sns.countplot(train[\"Education\"],hue=train[\"Loan_Status\"])\n",
        "\n",
        "plt.subplot(334)\n",
        "sns.countplot(train[\"Self_Employed\"],hue=train[\"Loan_Status\"])\n",
        "\n",
        "plt.subplot(335)\n",
        "sns.countplot(train[\"Property_Area\"],hue=train[\"Loan_Status\"])"
      ],
      "metadata": {
        "id": "lNNU0dsK8Xjo"
      },
      "execution_count": null,
      "outputs": []
    },
    {
      "cell_type": "markdown",
      "source": [
        "**Let's replace the variables values to numeric form and display the values count**"
      ],
      "metadata": {
        "id": "K7QIMjW2_D3e"
      }
    },
    {
      "cell_type": "code",
      "source": [
        "train[\"Loan_Status\"].replace(\"Y\",1,inplace=True)\n",
        "train[\"Loan_Status\"].replace(\"N\",0,inplace=True)"
      ],
      "metadata": {
        "id": "fEPCfkqP_TA0"
      },
      "execution_count": null,
      "outputs": []
    },
    {
      "cell_type": "code",
      "source": [
        "train[\"Loan_Status\"].value_counts()"
      ],
      "metadata": {
        "id": "n56SNqlM_2tB"
      },
      "execution_count": null,
      "outputs": []
    },
    {
      "cell_type": "code",
      "source": [
        "train.Gender = train.Gender.map({\"Male\":1,\"Female\":0})\n",
        "train[\"Gender\"].value_counts()"
      ],
      "metadata": {
        "id": "2JArSroAALAQ"
      },
      "execution_count": null,
      "outputs": []
    },
    {
      "cell_type": "code",
      "source": [
        "train.Married = train.Married.map({\"Yes\":1,\"No\":0})\n",
        "train[\"Married\"].value_counts()"
      ],
      "metadata": {
        "id": "5Rnpv9vlAk9T"
      },
      "execution_count": null,
      "outputs": []
    },
    {
      "cell_type": "code",
      "source": [
        "train.Dependents = train.Dependents.map({\"0\":0,\"1\":1,\"2\":2,\"3+\":3})\n",
        "train[\"Dependents\"].value_counts()"
      ],
      "metadata": {
        "id": "pWKB1r89BNHO"
      },
      "execution_count": null,
      "outputs": []
    },
    {
      "cell_type": "code",
      "source": [
        "train.Education = train.Education.map({\"Graduate\":1,\"Not Graduate\":0})\n",
        "train[\"Education\"].value_counts()"
      ],
      "metadata": {
        "id": "3-cr8T8fB7Hj"
      },
      "execution_count": null,
      "outputs": []
    },
    {
      "cell_type": "code",
      "source": [
        "train.Self_Employed = train.Self_Employed.map({\"Yes\":1,\"No\":0})\n",
        "train[\"Self_Employed\"].value_counts()"
      ],
      "metadata": {
        "id": "x8IaB0RqCXkO"
      },
      "execution_count": null,
      "outputs": []
    },
    {
      "cell_type": "code",
      "source": [
        "train.Property_Area = train.Property_Area.map({\"Urban\":2,\"Rural\":0,\"Semiurban\":1})\n",
        "train[\"Property_Area\"].value_counts()"
      ],
      "metadata": {
        "id": "D9riPRzeCo0F"
      },
      "execution_count": null,
      "outputs": []
    },
    {
      "cell_type": "code",
      "source": [
        "train[\"LoanAmount\"].value_counts()"
      ],
      "metadata": {
        "id": "cvaAKqewDNyl"
      },
      "execution_count": null,
      "outputs": []
    },
    {
      "cell_type": "code",
      "source": [
        "train[\"Credit_History\"].value_counts()"
      ],
      "metadata": {
        "id": "hSahjCs3DhIK"
      },
      "execution_count": null,
      "outputs": []
    },
    {
      "cell_type": "markdown",
      "source": [
        "**Final Data Frame**"
      ],
      "metadata": {
        "id": "AIZn5a6UDvT6"
      }
    },
    {
      "cell_type": "code",
      "source": [
        "train.head()"
      ],
      "metadata": {
        "id": "FUQc7WEQD0e5"
      },
      "execution_count": null,
      "outputs": []
    },
    {
      "cell_type": "markdown",
      "source": [
        "**Importing packages for classification algorithm**"
      ],
      "metadata": {
        "id": "tpWEXzr5Ewm5"
      }
    },
    {
      "cell_type": "code",
      "source": [
        "from sklearn.model_selection import train_test_split\n",
        "from sklearn.linear_model import LogisticRegression\n",
        "from sklearn import metrics\n",
        "#from sklearn.cross_validation import train_test_split"
      ],
      "metadata": {
        "id": "wbyS3xg4FSC1"
      },
      "execution_count": null,
      "outputs": []
    },
    {
      "cell_type": "markdown",
      "source": [
        "**Splitting the data set into train and test set**"
      ],
      "metadata": {
        "id": "w2hkO4ObGiBF"
      }
    },
    {
      "cell_type": "code",
      "source": [
        "\n",
        "#x = train.iloc[1:542,1:12].values\n",
        "#y = train.iloc[1:542,12].values \n",
        "\n",
        "x = train.drop([\"Loan_ID\",\"Property_Area\",\"Loan_Status\"],axis=1)#\n",
        "\n",
        "y = train[\"Loan_Status\"]"
      ],
      "metadata": {
        "id": "OnQoECPBGyd1"
      },
      "execution_count": null,
      "outputs": []
    },
    {
      "cell_type": "code",
      "source": [
        "x_train,x_test,y_train,y_test = train_test_split(x,y,test_size=0.3,random_state=0)"
      ],
      "metadata": {
        "id": "bqnNglFTHbIC"
      },
      "execution_count": null,
      "outputs": []
    },
    {
      "cell_type": "markdown",
      "source": [
        "**Logistic Regression**"
      ],
      "metadata": {
        "id": "koO4BDiBIWYz"
      }
    },
    {
      "cell_type": "code",
      "source": [
        "logmodel = LogisticRegression()\n",
        "logmodel.fit(x_train,y_train)"
      ],
      "metadata": {
        "id": "1bIO1JogIbDD"
      },
      "execution_count": null,
      "outputs": []
    },
    {
      "cell_type": "code",
      "source": [
        "Lr_Prediction = logmodel.predict(x_test)\n",
        "print(\"Logistic Regression accuracy = \" , metrics.accuracy_score(Lr_Prediction,y_test))"
      ],
      "metadata": {
        "id": "2g-SlLVjIucH"
      },
      "execution_count": null,
      "outputs": []
    },
    {
      "cell_type": "code",
      "source": [
        "print(classification_report(y_test,Lr_Prediction))"
      ],
      "metadata": {
        "id": "BqXKkuXd90tE"
      },
      "execution_count": null,
      "outputs": []
    },
    {
      "cell_type": "markdown",
      "source": [
        "#**For Test Dataset**"
      ],
      "metadata": {
        "id": "spH_p791-VDa"
      }
    },
    {
      "cell_type": "code",
      "source": [
        "test=pd.read_csv(\"/content/test.xls\")"
      ],
      "metadata": {
        "id": "z1bQaAbcFmFV"
      },
      "execution_count": null,
      "outputs": []
    },
    {
      "cell_type": "code",
      "source": [
        "test.head()"
      ],
      "metadata": {
        "id": "SAtsQTAM-Yx4"
      },
      "execution_count": null,
      "outputs": []
    },
    {
      "cell_type": "code",
      "source": [
        "test.info()"
      ],
      "metadata": {
        "id": "UfEUQ7oA-Y2u"
      },
      "execution_count": null,
      "outputs": []
    },
    {
      "cell_type": "code",
      "source": [
        "test.shape"
      ],
      "metadata": {
        "id": "QDmyXfuE-Y7H"
      },
      "execution_count": null,
      "outputs": []
    },
    {
      "cell_type": "code",
      "source": [
        "test.isnull().sum()"
      ],
      "metadata": {
        "id": "kEpIln2O-Y_0"
      },
      "execution_count": null,
      "outputs": []
    },
    {
      "cell_type": "code",
      "source": [
        "test[\"LoanAmount\"]=test[\"LoanAmount\"].fillna(test[\"LoanAmount\"].mean())"
      ],
      "metadata": {
        "id": "5ueE6vtA-ZEP"
      },
      "execution_count": null,
      "outputs": []
    },
    {
      "cell_type": "code",
      "source": [
        "test[\"Credit_History\"]=test[\"Credit_History\"].fillna(test[\"Credit_History\"].median())"
      ],
      "metadata": {
        "id": "tpHO7OWp-ZJz"
      },
      "execution_count": null,
      "outputs": []
    },
    {
      "cell_type": "code",
      "source": [
        "test.isnull().sum()"
      ],
      "metadata": {
        "id": "k-OAnFiE-ZPr"
      },
      "execution_count": null,
      "outputs": []
    },
    {
      "cell_type": "code",
      "source": [
        "test.dropna(inplace=True)"
      ],
      "metadata": {
        "id": "iklV6P2U-ZTi"
      },
      "execution_count": null,
      "outputs": []
    },
    {
      "cell_type": "code",
      "source": [
        "test.isnull().sum()"
      ],
      "metadata": {
        "id": "yA1hsdSn-ZYd"
      },
      "execution_count": null,
      "outputs": []
    },
    {
      "cell_type": "code",
      "source": [
        "test.shape"
      ],
      "metadata": {
        "id": "lAgpL9Ij-Zb_"
      },
      "execution_count": null,
      "outputs": []
    },
    {
      "cell_type": "code",
      "source": [
        "test.Gender = test.Gender.map({\"Male\":1,\"Female\":0})\n",
        "test[\"Gender\"].value_counts()"
      ],
      "metadata": {
        "id": "medBRzqC-ZpJ"
      },
      "execution_count": null,
      "outputs": []
    },
    {
      "cell_type": "code",
      "source": [
        "test.Married = test.Married.map({\"Yes\":1,\"No\":0})\n",
        "test[\"Married\"].value_counts()"
      ],
      "metadata": {
        "id": "s87WIMZhB2lC"
      },
      "execution_count": null,
      "outputs": []
    },
    {
      "cell_type": "code",
      "source": [
        "test.Dependents = test.Dependents.map({\"0\":0,\"1\":1,\"2\":2,\"3+\":3})\n",
        "test[\"Dependents\"].value_counts()"
      ],
      "metadata": {
        "id": "nqLnmA79CGVP"
      },
      "execution_count": null,
      "outputs": []
    },
    {
      "cell_type": "code",
      "source": [
        "test.Education = test.Education.map({\"Graduate\":1,\"Not Graduate\":0})\n",
        "test[\"Education\"].value_counts()"
      ],
      "metadata": {
        "id": "YO9tYP3aCGbK"
      },
      "execution_count": null,
      "outputs": []
    },
    {
      "cell_type": "code",
      "source": [
        "test.Self_Employed = test.Self_Employed.map({\"Yes\":1,\"No\":0})\n",
        "test[\"Self_Employed\"].value_counts()"
      ],
      "metadata": {
        "id": "RIAfzsufCGgi"
      },
      "execution_count": null,
      "outputs": []
    },
    {
      "cell_type": "code",
      "source": [
        "test.Property_Area = test.Property_Area.map({\"Urban\":2,\"Rural\":0,\"Semiurban\":1})\n",
        "test[\"Property_Area\"].value_counts()"
      ],
      "metadata": {
        "id": "pZM9gpVYCGmp"
      },
      "execution_count": null,
      "outputs": []
    },
    {
      "cell_type": "code",
      "source": [
        "test[\"LoanAmount\"].value_counts()"
      ],
      "metadata": {
        "id": "AExItKcxCHDN"
      },
      "execution_count": null,
      "outputs": []
    },
    {
      "cell_type": "code",
      "source": [
        "test.head()"
      ],
      "metadata": {
        "id": "aw8E8oQ6CHH7"
      },
      "execution_count": null,
      "outputs": []
    },
    {
      "cell_type": "code",
      "source": [
        "property_area = pd.get_dummies(test[\"Property_Area\"],drop_first=True)"
      ],
      "metadata": {
        "id": "srPxH3c0lVGo"
      },
      "execution_count": null,
      "outputs": []
    },
    {
      "cell_type": "code",
      "source": [
        "test = pd.concat([test,property_area],axis=1)"
      ],
      "metadata": {
        "id": "ZWmc-OvtmW8H"
      },
      "execution_count": null,
      "outputs": []
    },
    {
      "cell_type": "code",
      "source": [
        "x_data_test = test.drop([\"Loan_ID\",\"Property_Area\"],axis=1)"
      ],
      "metadata": {
        "id": "CwngXRBl79Rd"
      },
      "execution_count": null,
      "outputs": []
    },
    {
      "cell_type": "code",
      "source": [
        "x_data_test.head()"
      ],
      "metadata": {
        "id": "n4ejIDCl79X8"
      },
      "execution_count": null,
      "outputs": []
    },
    {
      "cell_type": "code",
      "source": [
        "del x_data_test[1]"
      ],
      "metadata": {
        "id": "ulqjYclQ79cu"
      },
      "execution_count": null,
      "outputs": []
    },
    {
      "cell_type": "code",
      "source": [
        "del x_data_test[2]"
      ],
      "metadata": {
        "id": "H_lk2JQy79hj"
      },
      "execution_count": null,
      "outputs": []
    },
    {
      "cell_type": "code",
      "source": [
        "test[\"Loan_Status\"] = logmodel.predict(x_data_test)"
      ],
      "metadata": {
        "id": "mKTdaTvPLEuN"
      },
      "execution_count": null,
      "outputs": []
    },
    {
      "cell_type": "code",
      "source": [
        "data_frame = test[[\"Loan_ID\",\"Loan_Status\"]]"
      ],
      "metadata": {
        "id": "bJ8YPkY39VvO"
      },
      "execution_count": null,
      "outputs": []
    },
    {
      "cell_type": "code",
      "source": [
        "data_frame.Loan_Status = data_frame.Loan_Status.map({1:\"Y\",0:\"N\"})"
      ],
      "metadata": {
        "id": "5nLIHP3e9WD5"
      },
      "execution_count": null,
      "outputs": []
    },
    {
      "cell_type": "code",
      "source": [
        "data_frame.head(20)"
      ],
      "metadata": {
        "id": "oDQCo5OG_AxM"
      },
      "execution_count": null,
      "outputs": []
    }
  ]
}